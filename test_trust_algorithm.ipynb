{
 "cells": [
  {
   "cell_type": "code",
   "execution_count": 5,
   "metadata": {},
   "outputs": [],
   "source": [
    "import requests\n",
    "from datetime import datetime, timezone, timedelta\n",
    "import json\n",
    "import pandas as pd"
   ]
  },
  {
   "cell_type": "code",
   "execution_count": 6,
   "metadata": {},
   "outputs": [
    {
     "data": {
      "text/plain": [
       "[{'from_user': 'Alan',\n",
       "  'spotted_users': 'Natahn',\n",
       "  'time': '2023-02-09T01:09:39.573678Z'},\n",
       " {'from_user': 'Alan',\n",
       "  'spotted_users': 'Mason',\n",
       "  'time': '2023-02-09T01:09:27.975968Z'},\n",
       " {'from_user': 'Alan',\n",
       "  'spotted_users': 'Alex',\n",
       "  'time': '2023-02-09T01:09:25.131091Z'},\n",
       " {'from_user': 'Mason',\n",
       "  'spotted_users': 'Alan',\n",
       "  'time': '2023-02-09T01:09:20.260899Z'},\n",
       " {'from_user': 'Natahn',\n",
       "  'spotted_users': 'Alan',\n",
       "  'time': '2023-02-09T01:09:17.902631Z'},\n",
       " {'from_user': 'Alex',\n",
       "  'spotted_users': 'Alan',\n",
       "  'time': '2023-02-09T01:09:14.540994Z'}]"
      ]
     },
     "execution_count": 6,
     "metadata": {},
     "output_type": "execute_result"
    }
   ],
   "source": [
    "url = 'http://127.0.0.1:8000/locationConsensus/interactions/'\n",
    "# url = \"https://dsc180-decentralized-location.herokuapp.com/locationConsensus/interactions/\"\n",
    "data = requests.get(url).json()\n",
    "data"
   ]
  },
  {
   "cell_type": "code",
   "execution_count": 7,
   "metadata": {},
   "outputs": [
    {
     "data": {
      "text/html": [
       "<div>\n",
       "<style scoped>\n",
       "    .dataframe tbody tr th:only-of-type {\n",
       "        vertical-align: middle;\n",
       "    }\n",
       "\n",
       "    .dataframe tbody tr th {\n",
       "        vertical-align: top;\n",
       "    }\n",
       "\n",
       "    .dataframe thead th {\n",
       "        text-align: right;\n",
       "    }\n",
       "</style>\n",
       "<table border=\"1\" class=\"dataframe\">\n",
       "  <thead>\n",
       "    <tr style=\"text-align: right;\">\n",
       "      <th></th>\n",
       "      <th>from_user</th>\n",
       "      <th>spotted_users</th>\n",
       "      <th>time</th>\n",
       "    </tr>\n",
       "  </thead>\n",
       "  <tbody>\n",
       "    <tr>\n",
       "      <th>0</th>\n",
       "      <td>Alan</td>\n",
       "      <td>Natahn</td>\n",
       "      <td>2023-02-09T01:09:39.573678Z</td>\n",
       "    </tr>\n",
       "    <tr>\n",
       "      <th>1</th>\n",
       "      <td>Alan</td>\n",
       "      <td>Mason</td>\n",
       "      <td>2023-02-09T01:09:27.975968Z</td>\n",
       "    </tr>\n",
       "    <tr>\n",
       "      <th>2</th>\n",
       "      <td>Alan</td>\n",
       "      <td>Alex</td>\n",
       "      <td>2023-02-09T01:09:25.131091Z</td>\n",
       "    </tr>\n",
       "    <tr>\n",
       "      <th>3</th>\n",
       "      <td>Mason</td>\n",
       "      <td>Alan</td>\n",
       "      <td>2023-02-09T01:09:20.260899Z</td>\n",
       "    </tr>\n",
       "    <tr>\n",
       "      <th>4</th>\n",
       "      <td>Natahn</td>\n",
       "      <td>Alan</td>\n",
       "      <td>2023-02-09T01:09:17.902631Z</td>\n",
       "    </tr>\n",
       "    <tr>\n",
       "      <th>5</th>\n",
       "      <td>Alex</td>\n",
       "      <td>Alan</td>\n",
       "      <td>2023-02-09T01:09:14.540994Z</td>\n",
       "    </tr>\n",
       "  </tbody>\n",
       "</table>\n",
       "</div>"
      ],
      "text/plain": [
       "  from_user spotted_users                         time\n",
       "0      Alan        Natahn  2023-02-09T01:09:39.573678Z\n",
       "1      Alan         Mason  2023-02-09T01:09:27.975968Z\n",
       "2      Alan          Alex  2023-02-09T01:09:25.131091Z\n",
       "3     Mason          Alan  2023-02-09T01:09:20.260899Z\n",
       "4    Natahn          Alan  2023-02-09T01:09:17.902631Z\n",
       "5      Alex          Alan  2023-02-09T01:09:14.540994Z"
      ]
     },
     "execution_count": 7,
     "metadata": {},
     "output_type": "execute_result"
    }
   ],
   "source": [
    "df = pd.DataFrame(data)\n",
    "df"
   ]
  },
  {
   "cell_type": "code",
   "execution_count": 8,
   "metadata": {},
   "outputs": [
    {
     "data": {
      "text/html": [
       "<div>\n",
       "<style scoped>\n",
       "    .dataframe tbody tr th:only-of-type {\n",
       "        vertical-align: middle;\n",
       "    }\n",
       "\n",
       "    .dataframe tbody tr th {\n",
       "        vertical-align: top;\n",
       "    }\n",
       "\n",
       "    .dataframe thead th {\n",
       "        text-align: right;\n",
       "    }\n",
       "</style>\n",
       "<table border=\"1\" class=\"dataframe\">\n",
       "  <thead>\n",
       "    <tr style=\"text-align: right;\">\n",
       "      <th></th>\n",
       "      <th>from_user</th>\n",
       "      <th>spotted_users</th>\n",
       "      <th>time</th>\n",
       "    </tr>\n",
       "  </thead>\n",
       "  <tbody>\n",
       "    <tr>\n",
       "      <th>0</th>\n",
       "      <td>Alan</td>\n",
       "      <td>Natahn</td>\n",
       "      <td>2023-02-09 01:09:39.573678+00:00</td>\n",
       "    </tr>\n",
       "    <tr>\n",
       "      <th>1</th>\n",
       "      <td>Alan</td>\n",
       "      <td>Mason</td>\n",
       "      <td>2023-02-09 01:09:27.975968+00:00</td>\n",
       "    </tr>\n",
       "    <tr>\n",
       "      <th>2</th>\n",
       "      <td>Alan</td>\n",
       "      <td>Alex</td>\n",
       "      <td>2023-02-09 01:09:25.131091+00:00</td>\n",
       "    </tr>\n",
       "    <tr>\n",
       "      <th>3</th>\n",
       "      <td>Mason</td>\n",
       "      <td>Alan</td>\n",
       "      <td>2023-02-09 01:09:20.260899+00:00</td>\n",
       "    </tr>\n",
       "    <tr>\n",
       "      <th>4</th>\n",
       "      <td>Natahn</td>\n",
       "      <td>Alan</td>\n",
       "      <td>2023-02-09 01:09:17.902631+00:00</td>\n",
       "    </tr>\n",
       "    <tr>\n",
       "      <th>5</th>\n",
       "      <td>Alex</td>\n",
       "      <td>Alan</td>\n",
       "      <td>2023-02-09 01:09:14.540994+00:00</td>\n",
       "    </tr>\n",
       "  </tbody>\n",
       "</table>\n",
       "</div>"
      ],
      "text/plain": [
       "  from_user spotted_users                             time\n",
       "0      Alan        Natahn 2023-02-09 01:09:39.573678+00:00\n",
       "1      Alan         Mason 2023-02-09 01:09:27.975968+00:00\n",
       "2      Alan          Alex 2023-02-09 01:09:25.131091+00:00\n",
       "3     Mason          Alan 2023-02-09 01:09:20.260899+00:00\n",
       "4    Natahn          Alan 2023-02-09 01:09:17.902631+00:00\n",
       "5      Alex          Alan 2023-02-09 01:09:14.540994+00:00"
      ]
     },
     "execution_count": 8,
     "metadata": {},
     "output_type": "execute_result"
    }
   ],
   "source": [
    "# df[\"time\"] = df[\"time\"].str.split(\".\").str[0]\n",
    "df[\"time\"] = pd.to_datetime(df[\"time\"])\n",
    "df"
   ]
  },
  {
   "cell_type": "code",
   "execution_count": 9,
   "metadata": {},
   "outputs": [
    {
     "name": "stdout",
     "output_type": "stream",
     "text": [
      "2023-02-09 01:10:24.219303+00:00\n",
      "2023-02-09 00:10:24.219303+00:00\n"
     ]
    }
   ],
   "source": [
    "now = datetime.now(timezone.utc)\n",
    "print(now)\n",
    "past_hour = now - timedelta(hours=1)\n",
    "print(past_hour)"
   ]
  },
  {
   "cell_type": "code",
   "execution_count": 10,
   "metadata": {},
   "outputs": [
    {
     "data": {
      "text/html": [
       "<div>\n",
       "<style scoped>\n",
       "    .dataframe tbody tr th:only-of-type {\n",
       "        vertical-align: middle;\n",
       "    }\n",
       "\n",
       "    .dataframe tbody tr th {\n",
       "        vertical-align: top;\n",
       "    }\n",
       "\n",
       "    .dataframe thead th {\n",
       "        text-align: right;\n",
       "    }\n",
       "</style>\n",
       "<table border=\"1\" class=\"dataframe\">\n",
       "  <thead>\n",
       "    <tr style=\"text-align: right;\">\n",
       "      <th></th>\n",
       "      <th>from_user</th>\n",
       "      <th>spotted_users</th>\n",
       "      <th>time</th>\n",
       "    </tr>\n",
       "  </thead>\n",
       "  <tbody>\n",
       "    <tr>\n",
       "      <th>0</th>\n",
       "      <td>Alan</td>\n",
       "      <td>Natahn</td>\n",
       "      <td>2023-02-09 01:09:39.573678+00:00</td>\n",
       "    </tr>\n",
       "    <tr>\n",
       "      <th>1</th>\n",
       "      <td>Alan</td>\n",
       "      <td>Mason</td>\n",
       "      <td>2023-02-09 01:09:27.975968+00:00</td>\n",
       "    </tr>\n",
       "    <tr>\n",
       "      <th>2</th>\n",
       "      <td>Alan</td>\n",
       "      <td>Alex</td>\n",
       "      <td>2023-02-09 01:09:25.131091+00:00</td>\n",
       "    </tr>\n",
       "    <tr>\n",
       "      <th>3</th>\n",
       "      <td>Mason</td>\n",
       "      <td>Alan</td>\n",
       "      <td>2023-02-09 01:09:20.260899+00:00</td>\n",
       "    </tr>\n",
       "    <tr>\n",
       "      <th>4</th>\n",
       "      <td>Natahn</td>\n",
       "      <td>Alan</td>\n",
       "      <td>2023-02-09 01:09:17.902631+00:00</td>\n",
       "    </tr>\n",
       "    <tr>\n",
       "      <th>5</th>\n",
       "      <td>Alex</td>\n",
       "      <td>Alan</td>\n",
       "      <td>2023-02-09 01:09:14.540994+00:00</td>\n",
       "    </tr>\n",
       "  </tbody>\n",
       "</table>\n",
       "</div>"
      ],
      "text/plain": [
       "  from_user spotted_users                             time\n",
       "0      Alan        Natahn 2023-02-09 01:09:39.573678+00:00\n",
       "1      Alan         Mason 2023-02-09 01:09:27.975968+00:00\n",
       "2      Alan          Alex 2023-02-09 01:09:25.131091+00:00\n",
       "3     Mason          Alan 2023-02-09 01:09:20.260899+00:00\n",
       "4    Natahn          Alan 2023-02-09 01:09:17.902631+00:00\n",
       "5      Alex          Alan 2023-02-09 01:09:14.540994+00:00"
      ]
     },
     "execution_count": 10,
     "metadata": {},
     "output_type": "execute_result"
    }
   ],
   "source": [
    "current_df = df.loc[df[\"time\"] > past_hour]\n",
    "current_df"
   ]
  },
  {
   "cell_type": "code",
   "execution_count": 11,
   "metadata": {},
   "outputs": [],
   "source": [
    "spotted_percentage = current_df.groupby(\"spotted_users\")[\"from_user\"].count() / current_df[\"from_user\"].nunique()"
   ]
  },
  {
   "cell_type": "code",
   "execution_count": 12,
   "metadata": {},
   "outputs": [
    {
     "data": {
      "text/plain": [
       "spotted_users\n",
       "Alan      0.75\n",
       "Alex      0.25\n",
       "Mason     0.25\n",
       "Natahn    0.25\n",
       "Name: from_user, dtype: float64"
      ]
     },
     "execution_count": 12,
     "metadata": {},
     "output_type": "execute_result"
    }
   ],
   "source": [
    "spotted_percentage"
   ]
  },
  {
   "cell_type": "code",
   "execution_count": 13,
   "metadata": {},
   "outputs": [],
   "source": [
    "cuttoff = 0.5\n",
    "flagged_users = spotted_percentage[spotted_percentage > cuttoff]"
   ]
  },
  {
   "cell_type": "code",
   "execution_count": 14,
   "metadata": {},
   "outputs": [],
   "source": [
    "blacklist_url = \"http://127.0.0.1:8000/locationConsensus/blacklist/\""
   ]
  },
  {
   "cell_type": "code",
   "execution_count": 15,
   "metadata": {},
   "outputs": [],
   "source": [
    "def update_blacklist(users):\n",
    "    for user in users:\n",
    "        toSend  = {'userID': user}\n",
    "        out = requests.post(blacklist_url, data = toSend)"
   ]
  },
  {
   "cell_type": "code",
   "execution_count": 16,
   "metadata": {},
   "outputs": [],
   "source": [
    "update_blacklist(flagged_users.index)"
   ]
  },
  {
   "cell_type": "code",
   "execution_count": 17,
   "metadata": {},
   "outputs": [
    {
     "name": "stdout",
     "output_type": "stream",
     "text": [
      "Alan\n"
     ]
    }
   ],
   "source": [
    "for user in flagged_users.index:\n",
    "    print(user)"
   ]
  },
  {
   "cell_type": "code",
   "execution_count": null,
   "metadata": {},
   "outputs": [],
   "source": []
  }
 ],
 "metadata": {
  "kernelspec": {
   "display_name": "Python 3",
   "language": "python",
   "name": "python3"
  },
  "language_info": {
   "codemirror_mode": {
    "name": "ipython",
    "version": 3
   },
   "file_extension": ".py",
   "mimetype": "text/x-python",
   "name": "python",
   "nbconvert_exporter": "python",
   "pygments_lexer": "ipython3",
   "version": "3.10.7"
  },
  "orig_nbformat": 4,
  "vscode": {
   "interpreter": {
    "hash": "d0d8f4ad52842acb1bd88b5e4d5a3e855ffe6009d6de89734aac6954d5696bda"
   }
  }
 },
 "nbformat": 4,
 "nbformat_minor": 2
}
