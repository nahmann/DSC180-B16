{
 "cells": [
  {
   "cell_type": "code",
   "execution_count": 1,
   "metadata": {},
   "outputs": [],
   "source": [
    "import requests\n",
    "from datetime import datetime, timezone, timedelta\n",
    "import json\n",
    "import pandas as pd\n",
    "from trust_algorithm import trust_alg"
   ]
  },
  {
   "cell_type": "code",
   "execution_count": 2,
   "metadata": {},
   "outputs": [
    {
     "data": {
      "text/plain": [
       "[{'from_user': 'alan',\n",
       "  'spotted_users': '[\"nathan\", \"mason\", \"alex\"]',\n",
       "  'time': '2023-02-09T01:09:27Z'},\n",
       " {'from_user': 'mason',\n",
       "  'spotted_users': '[\"alan\"]',\n",
       "  'time': '2023-02-09T01:09:27Z'},\n",
       " {'from_user': 'nathan',\n",
       "  'spotted_users': '[\"alan\"]',\n",
       "  'time': '2023-02-09T01:09:27Z'},\n",
       " {'from_user': 'alex',\n",
       "  'spotted_users': '[\"alan\"]',\n",
       "  'time': '2023-02-09T01:09:27Z'},\n",
       " {'from_user': 'alan',\n",
       "  'spotted_users': '[\"nathan\", \"mason\", \"alex\"]',\n",
       "  'time': '2023-02-09T01:09:27Z'},\n",
       " {'from_user': 'mason',\n",
       "  'spotted_users': '[\"alan\"]',\n",
       "  'time': '2023-02-09T01:09:27Z'},\n",
       " {'from_user': 'nathan',\n",
       "  'spotted_users': '[\"alan\"]',\n",
       "  'time': '2023-02-09T01:09:27Z'},\n",
       " {'from_user': 'alex',\n",
       "  'spotted_users': '[\"alan\"]',\n",
       "  'time': '2023-02-09T01:09:27Z'}]"
      ]
     },
     "execution_count": 2,
     "metadata": {},
     "output_type": "execute_result"
    }
   ],
   "source": [
    "url = 'http://127.0.0.1:8000/locationConsensus/interactions/'\n",
    "# url = \"https://dsc180-decentralized-location.herokuapp.com/locationConsensus/interactions/\"\n",
    "data = requests.get(url).json()\n",
    "data"
   ]
  },
  {
   "cell_type": "code",
   "execution_count": 3,
   "metadata": {},
   "outputs": [
    {
     "data": {
      "text/html": [
       "<div>\n",
       "<style scoped>\n",
       "    .dataframe tbody tr th:only-of-type {\n",
       "        vertical-align: middle;\n",
       "    }\n",
       "\n",
       "    .dataframe tbody tr th {\n",
       "        vertical-align: top;\n",
       "    }\n",
       "\n",
       "    .dataframe thead th {\n",
       "        text-align: right;\n",
       "    }\n",
       "</style>\n",
       "<table border=\"1\" class=\"dataframe\">\n",
       "  <thead>\n",
       "    <tr style=\"text-align: right;\">\n",
       "      <th></th>\n",
       "      <th>from_user</th>\n",
       "      <th>spotted_users</th>\n",
       "      <th>time</th>\n",
       "    </tr>\n",
       "  </thead>\n",
       "  <tbody>\n",
       "    <tr>\n",
       "      <th>0</th>\n",
       "      <td>alan</td>\n",
       "      <td>[\"nathan\", \"mason\", \"alex\"]</td>\n",
       "      <td>2023-02-09T01:09:27Z</td>\n",
       "    </tr>\n",
       "    <tr>\n",
       "      <th>1</th>\n",
       "      <td>mason</td>\n",
       "      <td>[\"alan\"]</td>\n",
       "      <td>2023-02-09T01:09:27Z</td>\n",
       "    </tr>\n",
       "    <tr>\n",
       "      <th>2</th>\n",
       "      <td>nathan</td>\n",
       "      <td>[\"alan\"]</td>\n",
       "      <td>2023-02-09T01:09:27Z</td>\n",
       "    </tr>\n",
       "    <tr>\n",
       "      <th>3</th>\n",
       "      <td>alex</td>\n",
       "      <td>[\"alan\"]</td>\n",
       "      <td>2023-02-09T01:09:27Z</td>\n",
       "    </tr>\n",
       "    <tr>\n",
       "      <th>4</th>\n",
       "      <td>alan</td>\n",
       "      <td>[\"nathan\", \"mason\", \"alex\"]</td>\n",
       "      <td>2023-02-09T01:09:27Z</td>\n",
       "    </tr>\n",
       "    <tr>\n",
       "      <th>5</th>\n",
       "      <td>mason</td>\n",
       "      <td>[\"alan\"]</td>\n",
       "      <td>2023-02-09T01:09:27Z</td>\n",
       "    </tr>\n",
       "    <tr>\n",
       "      <th>6</th>\n",
       "      <td>nathan</td>\n",
       "      <td>[\"alan\"]</td>\n",
       "      <td>2023-02-09T01:09:27Z</td>\n",
       "    </tr>\n",
       "    <tr>\n",
       "      <th>7</th>\n",
       "      <td>alex</td>\n",
       "      <td>[\"alan\"]</td>\n",
       "      <td>2023-02-09T01:09:27Z</td>\n",
       "    </tr>\n",
       "  </tbody>\n",
       "</table>\n",
       "</div>"
      ],
      "text/plain": [
       "  from_user                spotted_users                  time\n",
       "0      alan  [\"nathan\", \"mason\", \"alex\"]  2023-02-09T01:09:27Z\n",
       "1     mason                     [\"alan\"]  2023-02-09T01:09:27Z\n",
       "2    nathan                     [\"alan\"]  2023-02-09T01:09:27Z\n",
       "3      alex                     [\"alan\"]  2023-02-09T01:09:27Z\n",
       "4      alan  [\"nathan\", \"mason\", \"alex\"]  2023-02-09T01:09:27Z\n",
       "5     mason                     [\"alan\"]  2023-02-09T01:09:27Z\n",
       "6    nathan                     [\"alan\"]  2023-02-09T01:09:27Z\n",
       "7      alex                     [\"alan\"]  2023-02-09T01:09:27Z"
      ]
     },
     "execution_count": 3,
     "metadata": {},
     "output_type": "execute_result"
    }
   ],
   "source": [
    "df = pd.DataFrame(data)\n",
    "df"
   ]
  },
  {
   "cell_type": "code",
   "execution_count": 25,
   "metadata": {},
   "outputs": [
    {
     "data": {
      "text/html": [
       "<div>\n",
       "<style scoped>\n",
       "    .dataframe tbody tr th:only-of-type {\n",
       "        vertical-align: middle;\n",
       "    }\n",
       "\n",
       "    .dataframe tbody tr th {\n",
       "        vertical-align: top;\n",
       "    }\n",
       "\n",
       "    .dataframe thead th {\n",
       "        text-align: right;\n",
       "    }\n",
       "</style>\n",
       "<table border=\"1\" class=\"dataframe\">\n",
       "  <thead>\n",
       "    <tr style=\"text-align: right;\">\n",
       "      <th></th>\n",
       "      <th>from_user</th>\n",
       "      <th>spotted_users</th>\n",
       "      <th>time</th>\n",
       "    </tr>\n",
       "  </thead>\n",
       "  <tbody>\n",
       "    <tr>\n",
       "      <th>0</th>\n",
       "      <td>alan</td>\n",
       "      <td>[\"nathan\", \"mason\", \"alex\"]</td>\n",
       "      <td>2023-02-09 01:09:27+00:00</td>\n",
       "    </tr>\n",
       "    <tr>\n",
       "      <th>1</th>\n",
       "      <td>mason</td>\n",
       "      <td>[\"alan\"]</td>\n",
       "      <td>2023-02-09 01:09:27+00:00</td>\n",
       "    </tr>\n",
       "    <tr>\n",
       "      <th>2</th>\n",
       "      <td>nathan</td>\n",
       "      <td>[\"alan\"]</td>\n",
       "      <td>2023-02-09 01:09:27+00:00</td>\n",
       "    </tr>\n",
       "    <tr>\n",
       "      <th>3</th>\n",
       "      <td>alex</td>\n",
       "      <td>[\"alan\"]</td>\n",
       "      <td>2023-02-09 01:09:27+00:00</td>\n",
       "    </tr>\n",
       "    <tr>\n",
       "      <th>4</th>\n",
       "      <td>alan</td>\n",
       "      <td>[\"nathan\", \"mason\", \"alex\"]</td>\n",
       "      <td>2023-02-09 01:09:27+00:00</td>\n",
       "    </tr>\n",
       "    <tr>\n",
       "      <th>5</th>\n",
       "      <td>mason</td>\n",
       "      <td>[\"alan\"]</td>\n",
       "      <td>2023-02-09 01:09:27+00:00</td>\n",
       "    </tr>\n",
       "    <tr>\n",
       "      <th>6</th>\n",
       "      <td>nathan</td>\n",
       "      <td>[\"alan\"]</td>\n",
       "      <td>2023-02-09 01:09:27+00:00</td>\n",
       "    </tr>\n",
       "    <tr>\n",
       "      <th>7</th>\n",
       "      <td>alex</td>\n",
       "      <td>[\"alan\"]</td>\n",
       "      <td>2023-02-09 01:09:27+00:00</td>\n",
       "    </tr>\n",
       "  </tbody>\n",
       "</table>\n",
       "</div>"
      ],
      "text/plain": [
       "  from_user                spotted_users                      time\n",
       "0      alan  [\"nathan\", \"mason\", \"alex\"] 2023-02-09 01:09:27+00:00\n",
       "1     mason                     [\"alan\"] 2023-02-09 01:09:27+00:00\n",
       "2    nathan                     [\"alan\"] 2023-02-09 01:09:27+00:00\n",
       "3      alex                     [\"alan\"] 2023-02-09 01:09:27+00:00\n",
       "4      alan  [\"nathan\", \"mason\", \"alex\"] 2023-02-09 01:09:27+00:00\n",
       "5     mason                     [\"alan\"] 2023-02-09 01:09:27+00:00\n",
       "6    nathan                     [\"alan\"] 2023-02-09 01:09:27+00:00\n",
       "7      alex                     [\"alan\"] 2023-02-09 01:09:27+00:00"
      ]
     },
     "execution_count": 25,
     "metadata": {},
     "output_type": "execute_result"
    }
   ],
   "source": [
    "# df[\"time\"] = df[\"time\"].str.split(\".\").str[0]\n",
    "df[\"time\"] = pd.to_datetime(df[\"time\"])\n",
    "df"
   ]
  },
  {
   "cell_type": "code",
   "execution_count": 5,
   "metadata": {},
   "outputs": [
    {
     "name": "stdout",
     "output_type": "stream",
     "text": [
      "2023-02-16 01:14:40.701624+00:00\n",
      "2023-02-16 00:14:40.701624+00:00\n"
     ]
    }
   ],
   "source": [
    "now = datetime.now(timezone.utc)\n",
    "print(now)\n",
    "past_hour = now - timedelta(hours=1)\n",
    "print(past_hour)"
   ]
  },
  {
   "cell_type": "code",
   "execution_count": 6,
   "metadata": {},
   "outputs": [
    {
     "data": {
      "text/html": [
       "<div>\n",
       "<style scoped>\n",
       "    .dataframe tbody tr th:only-of-type {\n",
       "        vertical-align: middle;\n",
       "    }\n",
       "\n",
       "    .dataframe tbody tr th {\n",
       "        vertical-align: top;\n",
       "    }\n",
       "\n",
       "    .dataframe thead th {\n",
       "        text-align: right;\n",
       "    }\n",
       "</style>\n",
       "<table border=\"1\" class=\"dataframe\">\n",
       "  <thead>\n",
       "    <tr style=\"text-align: right;\">\n",
       "      <th></th>\n",
       "      <th>from_user</th>\n",
       "      <th>spotted_users</th>\n",
       "      <th>time</th>\n",
       "    </tr>\n",
       "  </thead>\n",
       "  <tbody>\n",
       "  </tbody>\n",
       "</table>\n",
       "</div>"
      ],
      "text/plain": [
       "Empty DataFrame\n",
       "Columns: [from_user, spotted_users, time]\n",
       "Index: []"
      ]
     },
     "execution_count": 6,
     "metadata": {},
     "output_type": "execute_result"
    }
   ],
   "source": [
    "current_df = df.loc[df[\"time\"] > past_hour]\n",
    "current_df"
   ]
  },
  {
   "cell_type": "code",
   "execution_count": 7,
   "metadata": {},
   "outputs": [
    {
     "data": {
      "text/html": [
       "<div>\n",
       "<style scoped>\n",
       "    .dataframe tbody tr th:only-of-type {\n",
       "        vertical-align: middle;\n",
       "    }\n",
       "\n",
       "    .dataframe tbody tr th {\n",
       "        vertical-align: top;\n",
       "    }\n",
       "\n",
       "    .dataframe thead th {\n",
       "        text-align: right;\n",
       "    }\n",
       "</style>\n",
       "<table border=\"1\" class=\"dataframe\">\n",
       "  <thead>\n",
       "    <tr style=\"text-align: right;\">\n",
       "      <th></th>\n",
       "      <th>from_user</th>\n",
       "      <th>spotted_users</th>\n",
       "      <th>time</th>\n",
       "    </tr>\n",
       "  </thead>\n",
       "  <tbody>\n",
       "    <tr>\n",
       "      <th>0</th>\n",
       "      <td>alan</td>\n",
       "      <td>[\"nathan\", \"mason\", \"alex\"]</td>\n",
       "      <td>2023-02-09 01:09:27+00:00</td>\n",
       "    </tr>\n",
       "    <tr>\n",
       "      <th>1</th>\n",
       "      <td>mason</td>\n",
       "      <td>[\"alan\"]</td>\n",
       "      <td>2023-02-09 01:09:27+00:00</td>\n",
       "    </tr>\n",
       "    <tr>\n",
       "      <th>2</th>\n",
       "      <td>nathan</td>\n",
       "      <td>[\"alan\"]</td>\n",
       "      <td>2023-02-09 01:09:27+00:00</td>\n",
       "    </tr>\n",
       "    <tr>\n",
       "      <th>3</th>\n",
       "      <td>alex</td>\n",
       "      <td>[\"alan\"]</td>\n",
       "      <td>2023-02-09 01:09:27+00:00</td>\n",
       "    </tr>\n",
       "    <tr>\n",
       "      <th>4</th>\n",
       "      <td>alan</td>\n",
       "      <td>[\"nathan\", \"mason\", \"alex\"]</td>\n",
       "      <td>2023-02-09 01:09:27+00:00</td>\n",
       "    </tr>\n",
       "    <tr>\n",
       "      <th>5</th>\n",
       "      <td>mason</td>\n",
       "      <td>[\"alan\"]</td>\n",
       "      <td>2023-02-09 01:09:27+00:00</td>\n",
       "    </tr>\n",
       "    <tr>\n",
       "      <th>6</th>\n",
       "      <td>nathan</td>\n",
       "      <td>[\"alan\"]</td>\n",
       "      <td>2023-02-09 01:09:27+00:00</td>\n",
       "    </tr>\n",
       "    <tr>\n",
       "      <th>7</th>\n",
       "      <td>alex</td>\n",
       "      <td>[\"alan\"]</td>\n",
       "      <td>2023-02-09 01:09:27+00:00</td>\n",
       "    </tr>\n",
       "  </tbody>\n",
       "</table>\n",
       "</div>"
      ],
      "text/plain": [
       "  from_user                spotted_users                      time\n",
       "0      alan  [\"nathan\", \"mason\", \"alex\"] 2023-02-09 01:09:27+00:00\n",
       "1     mason                     [\"alan\"] 2023-02-09 01:09:27+00:00\n",
       "2    nathan                     [\"alan\"] 2023-02-09 01:09:27+00:00\n",
       "3      alex                     [\"alan\"] 2023-02-09 01:09:27+00:00\n",
       "4      alan  [\"nathan\", \"mason\", \"alex\"] 2023-02-09 01:09:27+00:00\n",
       "5     mason                     [\"alan\"] 2023-02-09 01:09:27+00:00\n",
       "6    nathan                     [\"alan\"] 2023-02-09 01:09:27+00:00\n",
       "7      alex                     [\"alan\"] 2023-02-09 01:09:27+00:00"
      ]
     },
     "execution_count": 7,
     "metadata": {},
     "output_type": "execute_result"
    }
   ],
   "source": [
    "df"
   ]
  },
  {
   "cell_type": "code",
   "execution_count": 26,
   "metadata": {},
   "outputs": [
    {
     "data": {
      "text/html": [
       "<div>\n",
       "<style scoped>\n",
       "    .dataframe tbody tr th:only-of-type {\n",
       "        vertical-align: middle;\n",
       "    }\n",
       "\n",
       "    .dataframe tbody tr th {\n",
       "        vertical-align: top;\n",
       "    }\n",
       "\n",
       "    .dataframe thead th {\n",
       "        text-align: right;\n",
       "    }\n",
       "</style>\n",
       "<table border=\"1\" class=\"dataframe\">\n",
       "  <thead>\n",
       "    <tr style=\"text-align: right;\">\n",
       "      <th></th>\n",
       "      <th>from_user</th>\n",
       "      <th>spotted_users</th>\n",
       "      <th>time</th>\n",
       "    </tr>\n",
       "  </thead>\n",
       "  <tbody>\n",
       "    <tr>\n",
       "      <th>0</th>\n",
       "      <td>alan</td>\n",
       "      <td>[nathan, mason, alex]</td>\n",
       "      <td>2023-02-09 01:09:27+00:00</td>\n",
       "    </tr>\n",
       "    <tr>\n",
       "      <th>1</th>\n",
       "      <td>mason</td>\n",
       "      <td>[alan]</td>\n",
       "      <td>2023-02-09 01:09:27+00:00</td>\n",
       "    </tr>\n",
       "    <tr>\n",
       "      <th>2</th>\n",
       "      <td>nathan</td>\n",
       "      <td>[alan]</td>\n",
       "      <td>2023-02-09 01:09:27+00:00</td>\n",
       "    </tr>\n",
       "    <tr>\n",
       "      <th>3</th>\n",
       "      <td>alex</td>\n",
       "      <td>[alan]</td>\n",
       "      <td>2023-02-09 01:09:27+00:00</td>\n",
       "    </tr>\n",
       "    <tr>\n",
       "      <th>4</th>\n",
       "      <td>alan</td>\n",
       "      <td>[nathan, mason, alex]</td>\n",
       "      <td>2023-02-09 01:09:27+00:00</td>\n",
       "    </tr>\n",
       "    <tr>\n",
       "      <th>5</th>\n",
       "      <td>mason</td>\n",
       "      <td>[alan]</td>\n",
       "      <td>2023-02-09 01:09:27+00:00</td>\n",
       "    </tr>\n",
       "    <tr>\n",
       "      <th>6</th>\n",
       "      <td>nathan</td>\n",
       "      <td>[alan]</td>\n",
       "      <td>2023-02-09 01:09:27+00:00</td>\n",
       "    </tr>\n",
       "    <tr>\n",
       "      <th>7</th>\n",
       "      <td>alex</td>\n",
       "      <td>[alan]</td>\n",
       "      <td>2023-02-09 01:09:27+00:00</td>\n",
       "    </tr>\n",
       "  </tbody>\n",
       "</table>\n",
       "</div>"
      ],
      "text/plain": [
       "  from_user          spotted_users                      time\n",
       "0      alan  [nathan, mason, alex] 2023-02-09 01:09:27+00:00\n",
       "1     mason                 [alan] 2023-02-09 01:09:27+00:00\n",
       "2    nathan                 [alan] 2023-02-09 01:09:27+00:00\n",
       "3      alex                 [alan] 2023-02-09 01:09:27+00:00\n",
       "4      alan  [nathan, mason, alex] 2023-02-09 01:09:27+00:00\n",
       "5     mason                 [alan] 2023-02-09 01:09:27+00:00\n",
       "6    nathan                 [alan] 2023-02-09 01:09:27+00:00\n",
       "7      alex                 [alan] 2023-02-09 01:09:27+00:00"
      ]
     },
     "execution_count": 26,
     "metadata": {},
     "output_type": "execute_result"
    }
   ],
   "source": [
    "df[\"spotted_users\"] = df[\"spotted_users\"].apply(json.loads)\n",
    "df"
   ]
  },
  {
   "cell_type": "code",
   "execution_count": 12,
   "metadata": {},
   "outputs": [
    {
     "data": {
      "text/html": [
       "<div>\n",
       "<style scoped>\n",
       "    .dataframe tbody tr th:only-of-type {\n",
       "        vertical-align: middle;\n",
       "    }\n",
       "\n",
       "    .dataframe tbody tr th {\n",
       "        vertical-align: top;\n",
       "    }\n",
       "\n",
       "    .dataframe thead th {\n",
       "        text-align: right;\n",
       "    }\n",
       "</style>\n",
       "<table border=\"1\" class=\"dataframe\">\n",
       "  <thead>\n",
       "    <tr style=\"text-align: right;\">\n",
       "      <th></th>\n",
       "      <th>from_user</th>\n",
       "      <th>spotted_users</th>\n",
       "      <th>time</th>\n",
       "    </tr>\n",
       "  </thead>\n",
       "  <tbody>\n",
       "    <tr>\n",
       "      <th>0</th>\n",
       "      <td>alan</td>\n",
       "      <td>nathan</td>\n",
       "      <td>2023-02-09 01:09:27+00:00</td>\n",
       "    </tr>\n",
       "    <tr>\n",
       "      <th>0</th>\n",
       "      <td>alan</td>\n",
       "      <td>mason</td>\n",
       "      <td>2023-02-09 01:09:27+00:00</td>\n",
       "    </tr>\n",
       "    <tr>\n",
       "      <th>0</th>\n",
       "      <td>alan</td>\n",
       "      <td>alex</td>\n",
       "      <td>2023-02-09 01:09:27+00:00</td>\n",
       "    </tr>\n",
       "    <tr>\n",
       "      <th>1</th>\n",
       "      <td>mason</td>\n",
       "      <td>alan</td>\n",
       "      <td>2023-02-09 01:09:27+00:00</td>\n",
       "    </tr>\n",
       "    <tr>\n",
       "      <th>2</th>\n",
       "      <td>nathan</td>\n",
       "      <td>alan</td>\n",
       "      <td>2023-02-09 01:09:27+00:00</td>\n",
       "    </tr>\n",
       "    <tr>\n",
       "      <th>3</th>\n",
       "      <td>alex</td>\n",
       "      <td>alan</td>\n",
       "      <td>2023-02-09 01:09:27+00:00</td>\n",
       "    </tr>\n",
       "    <tr>\n",
       "      <th>4</th>\n",
       "      <td>alan</td>\n",
       "      <td>nathan</td>\n",
       "      <td>2023-02-09 01:09:27+00:00</td>\n",
       "    </tr>\n",
       "    <tr>\n",
       "      <th>4</th>\n",
       "      <td>alan</td>\n",
       "      <td>mason</td>\n",
       "      <td>2023-02-09 01:09:27+00:00</td>\n",
       "    </tr>\n",
       "    <tr>\n",
       "      <th>4</th>\n",
       "      <td>alan</td>\n",
       "      <td>alex</td>\n",
       "      <td>2023-02-09 01:09:27+00:00</td>\n",
       "    </tr>\n",
       "    <tr>\n",
       "      <th>5</th>\n",
       "      <td>mason</td>\n",
       "      <td>alan</td>\n",
       "      <td>2023-02-09 01:09:27+00:00</td>\n",
       "    </tr>\n",
       "    <tr>\n",
       "      <th>6</th>\n",
       "      <td>nathan</td>\n",
       "      <td>alan</td>\n",
       "      <td>2023-02-09 01:09:27+00:00</td>\n",
       "    </tr>\n",
       "    <tr>\n",
       "      <th>7</th>\n",
       "      <td>alex</td>\n",
       "      <td>alan</td>\n",
       "      <td>2023-02-09 01:09:27+00:00</td>\n",
       "    </tr>\n",
       "  </tbody>\n",
       "</table>\n",
       "</div>"
      ],
      "text/plain": [
       "  from_user spotted_users                      time\n",
       "0      alan        nathan 2023-02-09 01:09:27+00:00\n",
       "0      alan         mason 2023-02-09 01:09:27+00:00\n",
       "0      alan          alex 2023-02-09 01:09:27+00:00\n",
       "1     mason          alan 2023-02-09 01:09:27+00:00\n",
       "2    nathan          alan 2023-02-09 01:09:27+00:00\n",
       "3      alex          alan 2023-02-09 01:09:27+00:00\n",
       "4      alan        nathan 2023-02-09 01:09:27+00:00\n",
       "4      alan         mason 2023-02-09 01:09:27+00:00\n",
       "4      alan          alex 2023-02-09 01:09:27+00:00\n",
       "5     mason          alan 2023-02-09 01:09:27+00:00\n",
       "6    nathan          alan 2023-02-09 01:09:27+00:00\n",
       "7      alex          alan 2023-02-09 01:09:27+00:00"
      ]
     },
     "execution_count": 12,
     "metadata": {},
     "output_type": "execute_result"
    }
   ],
   "source": [
    "df = df.explode(\"spotted_users\")\n",
    "df"
   ]
  },
  {
   "cell_type": "code",
   "execution_count": 11,
   "metadata": {},
   "outputs": [],
   "source": [
    "spotted_percentage = current_df.groupby(\"spotted_users\")[\"from_user\"].count() / current_df[\"from_user\"].nunique()"
   ]
  },
  {
   "cell_type": "code",
   "execution_count": 12,
   "metadata": {},
   "outputs": [
    {
     "data": {
      "text/plain": [
       "spotted_users\n",
       "Alan      0.75\n",
       "Alex      0.25\n",
       "Mason     0.25\n",
       "Natahn    0.25\n",
       "Name: from_user, dtype: float64"
      ]
     },
     "execution_count": 12,
     "metadata": {},
     "output_type": "execute_result"
    }
   ],
   "source": [
    "spotted_percentage"
   ]
  },
  {
   "cell_type": "code",
   "execution_count": 13,
   "metadata": {},
   "outputs": [],
   "source": [
    "cuttoff = 0.5\n",
    "flagged_users = spotted_percentage[spotted_percentage > cuttoff]"
   ]
  },
  {
   "cell_type": "code",
   "execution_count": 14,
   "metadata": {},
   "outputs": [],
   "source": [
    "blacklist_url = \"http://127.0.0.1:8000/locationConsensus/blacklist/\""
   ]
  },
  {
   "cell_type": "code",
   "execution_count": 15,
   "metadata": {},
   "outputs": [],
   "source": [
    "def update_blacklist(users):\n",
    "    for user in users:\n",
    "        toSend  = {'userID': user}\n",
    "        out = requests.post(blacklist_url, data = toSend)"
   ]
  },
  {
   "cell_type": "code",
   "execution_count": 16,
   "metadata": {},
   "outputs": [],
   "source": [
    "update_blacklist(flagged_users.index)"
   ]
  },
  {
   "cell_type": "code",
   "execution_count": 17,
   "metadata": {},
   "outputs": [
    {
     "name": "stdout",
     "output_type": "stream",
     "text": [
      "Alan\n"
     ]
    }
   ],
   "source": [
    "for user in flagged_users.index:\n",
    "    print(user)"
   ]
  },
  {
   "cell_type": "code",
   "execution_count": null,
   "metadata": {},
   "outputs": [],
   "source": []
  },
  {
   "cell_type": "code",
   "execution_count": 4,
   "metadata": {},
   "outputs": [],
   "source": [
    "file = open('test_data.csv')\n",
    "\n",
    "line = file.readline()\n",
    "# read in the csv (extra steps due to list as a column)\n",
    "splits = line.split(',')\n",
    "from_user = splits[0]\n",
    "time = datetime.strptime(splits[-1].strip(), '%Y-%m-%d %H:%M:%S')"
   ]
  },
  {
   "cell_type": "code",
   "execution_count": 5,
   "metadata": {},
   "outputs": [
    {
     "data": {
      "text/plain": [
       "datetime.datetime(2023, 2, 9, 1, 9, 27)"
      ]
     },
     "execution_count": 5,
     "metadata": {},
     "output_type": "execute_result"
    }
   ],
   "source": [
    "time"
   ]
  },
  {
   "cell_type": "code",
   "execution_count": 6,
   "metadata": {},
   "outputs": [
    {
     "data": {
      "text/plain": [
       "datetime.datetime(2023, 2, 9, 9, 9, 27, tzinfo=datetime.timezone.utc)"
      ]
     },
     "execution_count": 6,
     "metadata": {},
     "output_type": "execute_result"
    }
   ],
   "source": [
    "time.astimezone(timezone.utc)"
   ]
  },
  {
   "cell_type": "code",
   "execution_count": 7,
   "metadata": {},
   "outputs": [
    {
     "data": {
      "text/plain": [
       "datetime.datetime(2023, 2, 16, 2, 44, 28, 543142, tzinfo=datetime.timezone.utc)"
      ]
     },
     "execution_count": 7,
     "metadata": {},
     "output_type": "execute_result"
    }
   ],
   "source": [
    "now = datetime.now(timezone.utc)\n",
    "now"
   ]
  },
  {
   "cell_type": "code",
   "execution_count": 8,
   "metadata": {},
   "outputs": [
    {
     "data": {
      "text/plain": [
       "datetime.datetime(2023, 2, 16, 2, 44, 28, 543142, tzinfo=datetime.timezone.utc)"
      ]
     },
     "execution_count": 8,
     "metadata": {},
     "output_type": "execute_result"
    }
   ],
   "source": [
    "now.astimezone(timezone.utc)"
   ]
  },
  {
   "cell_type": "code",
   "execution_count": 9,
   "metadata": {},
   "outputs": [
    {
     "data": {
      "text/plain": [
       "['alan']"
      ]
     },
     "execution_count": 9,
     "metadata": {},
     "output_type": "execute_result"
    }
   ],
   "source": [
    "trust_alg(data, time)"
   ]
  },
  {
   "cell_type": "code",
   "execution_count": null,
   "metadata": {},
   "outputs": [],
   "source": []
  }
 ],
 "metadata": {
  "kernelspec": {
   "display_name": "Python 3",
   "language": "python",
   "name": "python3"
  },
  "language_info": {
   "codemirror_mode": {
    "name": "ipython",
    "version": 3
   },
   "file_extension": ".py",
   "mimetype": "text/x-python",
   "name": "python",
   "nbconvert_exporter": "python",
   "pygments_lexer": "ipython3",
   "version": "3.10.7"
  },
  "orig_nbformat": 4,
  "vscode": {
   "interpreter": {
    "hash": "d0d8f4ad52842acb1bd88b5e4d5a3e855ffe6009d6de89734aac6954d5696bda"
   }
  }
 },
 "nbformat": 4,
 "nbformat_minor": 2
}
