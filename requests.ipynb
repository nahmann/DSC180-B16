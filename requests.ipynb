{
 "cells": [
  {
   "cell_type": "code",
   "execution_count": 21,
   "metadata": {},
   "outputs": [],
   "source": [
    "import requests\n",
    "from datetime import datetime\n",
    "url = 'https://dsc180-decentralized-location.herokuapp.com/locationConsensus/'"
   ]
  },
  {
   "cell_type": "code",
   "execution_count": 22,
   "metadata": {},
   "outputs": [
    {
     "data": {
      "text/plain": [
       "<Response [201]>"
      ]
     },
     "execution_count": 22,
     "metadata": {},
     "output_type": "execute_result"
    }
   ],
   "source": [
    "time = datetime.now().strftime('%Y-%m-%dT%H:%M:%SZ')\n",
    "myobj = {\n",
    "    'interactionID': '2',\n",
    "    'spotter': 'Nathan4',\n",
    "    'spotted': 'Alex2',\n",
    "    'location': 'Home',\n",
    "    'time' : time,\n",
    "}\n",
    "\n",
    "requests.post(url+'interactions/', json = myobj)"
   ]
  },
  {
   "cell_type": "code",
   "execution_count": 24,
   "metadata": {},
   "outputs": [
    {
     "data": {
      "text/plain": [
       "[{'interactionID': '2',\n",
       "  'spotter': 'Nathan4',\n",
       "  'spotted': 'Alex2',\n",
       "  'location': 'Home',\n",
       "  'time': '2023-01-27T13:37:51Z'},\n",
       " {'interactionID': '2',\n",
       "  'spotter': 'nathan2',\n",
       "  'spotted': 'nathan3',\n",
       "  'location': 'work',\n",
       "  'time': '2023-01-27T13:33:00Z'},\n",
       " {'interactionID': '5',\n",
       "  'spotter': 'nathan7',\n",
       "  'spotted': 'nathan8',\n",
       "  'location': 'work',\n",
       "  'time': '2023-01-27T13:33:00Z'},\n",
       " {'interactionID': '1',\n",
       "  'spotter': 'noone',\n",
       "  'spotted': 'someone',\n",
       "  'location': 'somewhere',\n",
       "  'time': '2023-01-13T12:00:00Z'},\n",
       " {'interactionID': '2',\n",
       "  'spotter': 'Nathan3',\n",
       "  'spotted': 'Alan2',\n",
       "  'location': 'utc',\n",
       "  'time': '2022-12-02T15:02:00Z'},\n",
       " {'interactionID': '2',\n",
       "  'spotter': 'Nathan',\n",
       "  'spotted': 'Alan',\n",
       "  'location': 'utc',\n",
       "  'time': '2022-12-02T15:02:00Z'},\n",
       " {'interactionID': '4',\n",
       "  'spotter': 'mason',\n",
       "  'spotted': 'notmason',\n",
       "  'location': 'campus',\n",
       "  'time': '2022-12-01T12:15:00Z'}]"
      ]
     },
     "execution_count": 24,
     "metadata": {},
     "output_type": "execute_result"
    }
   ],
   "source": [
    "requests.get(url+'interactions/').json()"
   ]
  }
 ],
 "metadata": {
  "kernelspec": {
   "display_name": "Python 3",
   "language": "python",
   "name": "python3"
  },
  "language_info": {
   "codemirror_mode": {
    "name": "ipython",
    "version": 3
   },
   "file_extension": ".py",
   "mimetype": "text/x-python",
   "name": "python",
   "nbconvert_exporter": "python",
   "pygments_lexer": "ipython3",
   "version": "3.10.9"
  },
  "orig_nbformat": 4,
  "vscode": {
   "interpreter": {
    "hash": "cc2a200e1e6dab10c4dc3986f0e7a998296447c993c26561a1bd050a849d8214"
   }
  }
 },
 "nbformat": 4,
 "nbformat_minor": 2
}
