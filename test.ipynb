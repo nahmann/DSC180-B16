{
 "cells": [
  {
   "cell_type": "code",
   "execution_count": 1,
   "metadata": {},
   "outputs": [
    {
     "name": "stdout",
     "output_type": "stream",
     "text": [
      "Trust algorithm ran successfully\n"
     ]
    }
   ],
   "source": [
    "import requests\n",
    "import json\n",
    "from datetime import datetime\n",
    "from trust_algorithm import update_blacklist"
   ]
  },
  {
   "cell_type": "code",
   "execution_count": 2,
   "metadata": {},
   "outputs": [
    {
     "name": "stdout",
     "output_type": "stream",
     "text": [
      "{\"userID\":\"alex\"}\n",
      "{\"from_user\":\"alex\",\"spotted_users\":\"[\\\"alan\\\"]\",\"time\":\"2023-02-09T01:09:27Z\"}\n"
     ]
    }
   ],
   "source": [
    "url = 'http://127.0.0.1:8000/locationConsensus/'\n",
    "file = open('test_data.csv')\n",
    "\n",
    "for line in file:\n",
    "    # read in the csv (extra steps due to list as a column)\n",
    "    splits = line.split(',')\n",
    "    from_user = splits[0]\n",
    "    time = datetime.strptime(splits[-1].strip(), '%Y-%m-%d %H:%M:%S')\n",
    "    users = []\n",
    "    for user in splits[1:-1]:\n",
    "        users.append(user.replace(\"'\", '').replace(\"[\", '').replace(\"]\", '').replace(\" \", ''))\n",
    "\n",
    "    toSend = {\n",
    "        'from_user':from_user, \n",
    "        'spotted_users': json.dumps(users),\n",
    "        'time':time\n",
    "    } \n",
    "\n",
    "    out1 = requests.post(url + 'users/', data={'userID':from_user}) # add the user to the database\n",
    "    out2 = requests.post(url + 'interactions/', data=toSend) # add the interaction to the database\n",
    "\n",
    "print(out1.text)\n",
    "print(out2.text)"
   ]
  },
  {
   "cell_type": "code",
   "execution_count": 3,
   "metadata": {},
   "outputs": [],
   "source": [
    "from datetime import timezone, timedelta\n",
    "import pandas as pd\n",
    "\n",
    "# urls of site\n",
    "base_url = \"https://dsc180-decentralized-location.herokuapp.com/locationConsensus/\"\n",
    "interaction_url = base_url + \"interactions/\"\n",
    "blacklist_url = base_url + \"blacklist/\"\n",
    "\n",
    "# fields\n",
    "cuttoff = 0.5 # cutoff percentage to be marked for blacklist\n",
    "\n",
    "# gets interaction data\n",
    "data = requests.get(interaction_url).json()\n",
    "df = pd.DataFrame(data)\n",
    "\n",
    "spotted_percentage = df.groupby(\"spotted_users\")[\"from_user\"].count() / df[\"from_user\"].nunique()\n",
    "flagged_users = spotted_percentage[spotted_percentage > cuttoff]\n",
    "\n",
    "update_blacklist(flagged_users.index)"
   ]
  },
  {
   "cell_type": "code",
   "execution_count": 4,
   "metadata": {},
   "outputs": [
    {
     "data": {
      "text/plain": [
       "'[]'"
      ]
     },
     "execution_count": 4,
     "metadata": {},
     "output_type": "execute_result"
    }
   ],
   "source": [
    "requests.get(url + 'blacklist/').text"
   ]
  }
 ],
 "metadata": {
  "kernelspec": {
   "display_name": "Python 3",
   "language": "python",
   "name": "python3"
  },
  "language_info": {
   "codemirror_mode": {
    "name": "ipython",
    "version": 3
   },
   "file_extension": ".py",
   "mimetype": "text/x-python",
   "name": "python",
   "nbconvert_exporter": "python",
   "pygments_lexer": "ipython3",
   "version": "3.10.10"
  },
  "orig_nbformat": 4,
  "vscode": {
   "interpreter": {
    "hash": "049c777f5eb89f87ac9e62d3b1f0bf223c32a6e6e9b14340da978f65381245ec"
   }
  }
 },
 "nbformat": 4,
 "nbformat_minor": 2
}
